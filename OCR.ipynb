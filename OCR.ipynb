{
  "nbformat": 4,
  "nbformat_minor": 0,
  "metadata": {
    "colab": {
      "name": "OCR.ipynb",
      "provenance": [],
      "authorship_tag": "ABX9TyNrfG96A22/wc0odnh+UvHF",
      "include_colab_link": true
    },
    "kernelspec": {
      "name": "python3",
      "display_name": "Python 3"
    }
  },
  "cells": [
    {
      "cell_type": "markdown",
      "metadata": {
        "id": "view-in-github",
        "colab_type": "text"
      },
      "source": [
        "<a href=\"https://colab.research.google.com/github/mumumu99/OCR/blob/main/OCR.ipynb\" target=\"_parent\"><img src=\"https://colab.research.google.com/assets/colab-badge.svg\" alt=\"Open In Colab\"/></a>"
      ]
    },
    {
      "cell_type": "code",
      "metadata": {
        "id": "gvSzgaTKhef4",
        "colab": {
          "base_uri": "https://localhost:8080/"
        },
        "outputId": "9493beb8-6a91-452e-b202-7053df4eacdf"
      },
      "source": [
        "import tensorflow as tf\r\n",
        "import keras\r\n",
        "from keras.utils import to_categorical\r\n",
        "from keras import models, layers\r\n",
        "\r\n",
        "(x_train, y_train), (x_test, y_test) = tf.keras.datasets.mnist.load_data()\r\n",
        "x_train, x_test = x_train/255.0, x_test/255.0\r\n",
        "\r\n",
        "model = models.Sequential()\r\n",
        "model.add(layers.Flatten(input_shape=(28,28)))\r\n",
        "model.add(layers.Dense(128,activation='relu'))\r\n",
        "model.add(layers.Dropout(0.2))\r\n",
        "model.add(layers.Dense(10,activation='softmax'))\r\n",
        "\r\n",
        "model.compile(\r\n",
        "    loss = \"sparse_categorical_crossentropy\",\r\n",
        "    optimizer = 'adam',\r\n",
        "    metrics = ['accuracy']\r\n",
        ")\r\n",
        "\r\n",
        "model.fit(x_train, y_train, epochs=5)\r\n",
        "model.evaluate(x_test, y_test, verbose=2)\r\n",
        "\r\n",
        "#filename = 'one.jpg'\r\n",
        "#from keras.preprocessing import image\r\n",
        "#testimg = image.load_img(filename, target_size=(28,28))\r\n",
        "#plt.imshow(np.uint8(testimg))\r\n",
        "#img = image.img_to_array(testimg)"
      ],
      "execution_count": 16,
      "outputs": [
        {
          "output_type": "stream",
          "text": [
            "Epoch 1/5\n",
            "1875/1875 [==============================] - 4s 2ms/step - loss: 0.4695 - accuracy: 0.8663\n",
            "Epoch 2/5\n",
            "1875/1875 [==============================] - 4s 2ms/step - loss: 0.1452 - accuracy: 0.9570\n",
            "Epoch 3/5\n",
            "1875/1875 [==============================] - 4s 2ms/step - loss: 0.1058 - accuracy: 0.9671\n",
            "Epoch 4/5\n",
            "1875/1875 [==============================] - 4s 2ms/step - loss: 0.0852 - accuracy: 0.9737\n",
            "Epoch 5/5\n",
            "1875/1875 [==============================] - 4s 2ms/step - loss: 0.0690 - accuracy: 0.9787\n",
            "313/313 - 0s - loss: 0.0721 - accuracy: 0.9770\n"
          ],
          "name": "stdout"
        },
        {
          "output_type": "execute_result",
          "data": {
            "text/plain": [
              "[0.07213949412107468, 0.9769999980926514]"
            ]
          },
          "metadata": {
            "tags": []
          },
          "execution_count": 16
        }
      ]
    },
    {
      "cell_type": "code",
      "metadata": {
        "colab": {
          "base_uri": "https://localhost:8080/",
          "height": 283
        },
        "id": "QlT0Gy87slib",
        "outputId": "a5bf289b-fd87-4651-b167-ace5d5e2839c"
      },
      "source": [
        "x_train\r\n",
        "import matplotlib.pyplot as plt\r\n",
        "plt.imshow(x_train[105])"
      ],
      "execution_count": 15,
      "outputs": [
        {
          "output_type": "execute_result",
          "data": {
            "text/plain": [
              "<matplotlib.image.AxesImage at 0x7f0bd01b6dd8>"
            ]
          },
          "metadata": {
            "tags": []
          },
          "execution_count": 15
        },
        {
          "output_type": "display_data",
          "data": {
            "image/png": "[encoded data removed]",
            "text/plain": [
              "<Figure size 432x288 with 1 Axes>"
            ]
          },
          "metadata": {
            "tags": [],
            "needs_background": "light"
          }
        }
      ]
    }
  ]
}